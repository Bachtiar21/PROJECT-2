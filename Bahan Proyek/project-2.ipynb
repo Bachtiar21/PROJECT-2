{
 "cells": [
  {
   "cell_type": "markdown",
   "id": "d6e316eb",
   "metadata": {},
   "source": [
    "### HIMPUNAN DATA"
   ]
  },
  {
   "cell_type": "code",
   "execution_count": 15,
   "id": "7c77403a",
   "metadata": {},
   "outputs": [],
   "source": [
    "import pandas as pd"
   ]
  },
  {
   "cell_type": "code",
   "execution_count": 3,
   "id": "f399e251",
   "metadata": {
    "scrolled": true
   },
   "outputs": [
    {
     "name": "stdout",
     "output_type": "stream",
     "text": [
      "    id  YearsExperience    Salary\n",
      "0    8              1.1   39343.0\n",
      "1    9              1.3   46205.0\n",
      "2   10              1.5   37731.0\n",
      "3   11              2.0   43525.0\n",
      "4   12              2.2   39891.0\n",
      "5   13              2.9   56642.0\n",
      "6   14              3.0   60150.0\n",
      "7   15              3.2   54445.0\n",
      "8   16              3.2   64445.0\n",
      "9   17              3.7   57189.0\n",
      "10  18              3.9   63218.0\n",
      "11  19              4.0   55794.0\n",
      "12  20              4.0   56957.0\n",
      "13  21              4.1   57081.0\n",
      "14  22              4.5   61111.0\n",
      "15  23              4.9   67938.0\n",
      "16  24              5.1   66029.0\n",
      "17  25              5.3   83088.0\n",
      "18  26              5.9   81363.0\n",
      "19  27              6.0   93940.0\n",
      "20  28              6.8   91738.0\n",
      "21  29              7.1  101302.0\n"
     ]
    }
   ],
   "source": [
    "from sqlalchemy import create_engine\n",
    "import pymysql\n",
    "#mysql+pymysql://<username>:<password>@<host>/<dbname>[?<options>]\n",
    "sqlEngine=create_engine('mysql+pymysql://root:@127.0.0.1',pool_recycle=3600)\n",
    "\n",
    "dbConnection = sqlEngine.connect()\n",
    "df = pd.read_sql('SELECT * FROM djpegawai.prediksi_pegawai ', dbConnection)\n",
    "pd.set_option('display.expand_frame_repr', False)\n",
    "print(df)\n",
    "dbConnection.close()"
   ]
  },
  {
   "cell_type": "markdown",
   "id": "dbf3c8cb",
   "metadata": {},
   "source": [
    "#### Data Cleaning\n",
    "Menghapus data yang tidak digunakan dalam proses pembuatan machine learning."
   ]
  },
  {
   "cell_type": "code",
   "execution_count": 4,
   "id": "9e231b8d",
   "metadata": {},
   "outputs": [],
   "source": [
    "df_clean = df.drop('id', axis=1)"
   ]
  },
  {
   "cell_type": "code",
   "execution_count": 6,
   "id": "48a46066",
   "metadata": {},
   "outputs": [],
   "source": [
    "x = df_clean.iloc[:, :-1]\n",
    "y = df_clean.iloc[:, -1]"
   ]
  },
  {
   "cell_type": "markdown",
   "id": "f9aaa67d",
   "metadata": {},
   "source": [
    "### PROSES DATA MINING & PENGETAHUAN"
   ]
  },
  {
   "cell_type": "code",
   "execution_count": 7,
   "id": "c75c4e57",
   "metadata": {},
   "outputs": [],
   "source": [
    "from sklearn.model_selection import train_test_split\n",
    "x_train, x_test, y_train, y_test = train_test_split(x, y, test_size=1/3, random_state=0)"
   ]
  },
  {
   "cell_type": "markdown",
   "id": "2d73eb71",
   "metadata": {},
   "source": [
    "#### Prediction\n",
    "Model machine learning ini menggunakan metode linear regression."
   ]
  },
  {
   "cell_type": "code",
   "execution_count": 8,
   "id": "6758992a",
   "metadata": {},
   "outputs": [
    {
     "name": "stdout",
     "output_type": "stream",
     "text": [
      "[9087.03997976]\n",
      "26611.29149797574\n"
     ]
    }
   ],
   "source": [
    "from sklearn.linear_model import LinearRegression\n",
    "regressor = LinearRegression()\n",
    "persamaan = regressor.fit(x_train, y_train)\n",
    "print(regressor.coef_)\n",
    "print(regressor.intercept_)\n",
    "y_pred = regressor.predict(x_test)"
   ]
  },
  {
   "cell_type": "markdown",
   "id": "1d72a791",
   "metadata": {},
   "source": [
    "#### Visualisasi Data\n",
    "Menampilkan visualisasi data menggunakan scatter diagram."
   ]
  },
  {
   "cell_type": "code",
   "execution_count": 9,
   "id": "0f177e4f",
   "metadata": {},
   "outputs": [
    {
     "data": {
      "image/png": "[encoded data removed]",
      "text/plain": [
       "<Figure size 432x288 with 1 Axes>"
      ]
     },
     "metadata": {
      "needs_background": "light"
     },
     "output_type": "display_data"
    }
   ],
   "source": [
    "import matplotlib.pyplot as plt\n",
    "plt.scatter(x_train, y_train, color=\"purple\")\n",
    "plt.plot(x_train, regressor.predict(x_train), color=\"pink\")\n",
    "plt.title(\"Salary Prediction\")\n",
    "plt.xlabel(\"Years Experience\")\n",
    "plt.ylabel(\"Salary\")\n",
    "plt.legend(('$\\hat{y}(x)=9087.03x+26611.29$',),loc='upper right')\n",
    "plt.show()"
   ]
  },
  {
   "cell_type": "code",
   "execution_count": 10,
   "id": "191d4487",
   "metadata": {},
   "outputs": [],
   "source": [
    "import numpy as np\n",
    "import scipy\n",
    "from scipy import stats"
   ]
  },
  {
   "cell_type": "code",
   "execution_count": 11,
   "id": "dd3c9d1b",
   "metadata": {},
   "outputs": [],
   "source": [
    "def ANOVATAB(y,yhat,n,m):\n",
    "    dfn=n\n",
    "    dfd=m-n-1\n",
    "    ybar=np.average(y)\n",
    "    \n",
    "    SSR = sum((yhat-ybar)**2)\n",
    "    SSE = sum((y-yhat)**2)\n",
    "    print (SSE)\n",
    "    print(dfd)\n",
    "    SST = sum((y-ybar)**2)\n",
    "    MSR = SSR/dfn\n",
    "    MSE = SSE/dfd\n",
    "    \n",
    "    Fs = MSR/MSE\n",
    "    ks =1-scipy.stats.f.cdf(Fs,dfn,dfd)\n",
    "    data_table = {\n",
    "        'SS' : [SSR,SSE,SST],\n",
    "        'df' : [dfn,dfd,m-1],\n",
    "        'MS' : [MSR,MSE,'-'],\n",
    "        'Fs' : [Fs,'-','-'],\n",
    "        'pval' : [ks, '-', '-']\n",
    "    }\n",
    "    return pd.DataFrame(data_table)"
   ]
  },
  {
   "cell_type": "markdown",
   "id": "c6dfa5ef",
   "metadata": {},
   "source": [
    "Menampilkan tabel ANOVA untuk mendeskripsikan data yang dipakai."
   ]
  },
  {
   "cell_type": "code",
   "execution_count": 12,
   "id": "a7b4e61d",
   "metadata": {
    "scrolled": true
   },
   "outputs": [
    {
     "name": "stdout",
     "output_type": "stream",
     "text": [
      "TABEL ANOVA\n",
      "478777110.31719893\n",
      "6\n"
     ]
    },
    {
     "data": {
      "text/html": [
       "<div>\n",
       "<style scoped>\n",
       "    .dataframe tbody tr th:only-of-type {\n",
       "        vertical-align: middle;\n",
       "    }\n",
       "\n",
       "    .dataframe tbody tr th {\n",
       "        vertical-align: top;\n",
       "    }\n",
       "\n",
       "    .dataframe thead th {\n",
       "        text-align: right;\n",
       "    }\n",
       "</style>\n",
       "<table border=\"1\" class=\"dataframe\">\n",
       "  <thead>\n",
       "    <tr style=\"text-align: right;\">\n",
       "      <th></th>\n",
       "      <th>SS</th>\n",
       "      <th>df</th>\n",
       "      <th>MS</th>\n",
       "      <th>Fs</th>\n",
       "      <th>pval</th>\n",
       "    </tr>\n",
       "  </thead>\n",
       "  <tbody>\n",
       "    <tr>\n",
       "      <th>0</th>\n",
       "      <td>2.087941e+09</td>\n",
       "      <td>1</td>\n",
       "      <td>2087941040.83831</td>\n",
       "      <td>26.165926</td>\n",
       "      <td>0.002188</td>\n",
       "    </tr>\n",
       "    <tr>\n",
       "      <th>1</th>\n",
       "      <td>4.787771e+08</td>\n",
       "      <td>6</td>\n",
       "      <td>79796185.052866</td>\n",
       "      <td>-</td>\n",
       "      <td>-</td>\n",
       "    </tr>\n",
       "    <tr>\n",
       "      <th>2</th>\n",
       "      <td>3.071911e+09</td>\n",
       "      <td>7</td>\n",
       "      <td>-</td>\n",
       "      <td>-</td>\n",
       "      <td>-</td>\n",
       "    </tr>\n",
       "  </tbody>\n",
       "</table>\n",
       "</div>"
      ],
      "text/plain": [
       "             SS  df                MS         Fs      pval\n",
       "0  2.087941e+09   1  2087941040.83831  26.165926  0.002188\n",
       "1  4.787771e+08   6   79796185.052866          -         -\n",
       "2  3.071911e+09   7                 -          -         -"
      ]
     },
     "execution_count": 12,
     "metadata": {},
     "output_type": "execute_result"
    }
   ],
   "source": [
    "n=1\n",
    "m=len(y_pred)\n",
    "print('TABEL ANOVA')\n",
    "result=ANOVATAB(y_test,y_pred,n,m)\n",
    "result"
   ]
  },
  {
   "cell_type": "markdown",
   "id": "140335e0",
   "metadata": {},
   "source": [
    "#### Visualisasi Data\n",
    "Menampilkan visualisasi data menggunakan scatter diagram."
   ]
  },
  {
   "cell_type": "code",
   "execution_count": 13,
   "id": "ba7b780e",
   "metadata": {
    "scrolled": true
   },
   "outputs": [
    {
     "data": {
      "image/png": "[encoded data removed]",
      "text/plain": [
       "<Figure size 432x288 with 1 Axes>"
      ]
     },
     "metadata": {
      "needs_background": "light"
     },
     "output_type": "display_data"
    }
   ],
   "source": [
    "plt.scatter(x_test, y_test, color=\"turquoise\")\n",
    "plt.plot(x_train, regressor.predict(x_train), color=\"magenta\")\n",
    "plt.title(\"Salary Prediction\")\n",
    "plt.xlabel(\"Years Experience\")\n",
    "plt.ylabel(\"Salary\")\n",
    "plt.show()"
   ]
  },
  {
   "cell_type": "markdown",
   "id": "e919c012",
   "metadata": {},
   "source": [
    "### Evaluasi Data"
   ]
  },
  {
   "cell_type": "code",
   "execution_count": 14,
   "id": "602f83f9",
   "metadata": {},
   "outputs": [
    {
     "name": "stdout",
     "output_type": "stream",
     "text": [
      "Gaji yang terprediksi pada pegawai yang bekerja sepanjang tahun tersebut adalah  [90220.57135628]\n"
     ]
    }
   ],
   "source": [
    "salary_pred = regressor.predict([[7]])\n",
    "print(\"Gaji yang terprediksi pada pegawai yang bekerja sepanjang tahun tersebut adalah \",salary_pred)"
   ]
  }
 ],
 "metadata": {
  "kernelspec": {
   "display_name": "Python 3",
   "language": "python",
   "name": "python3"
  },
  "language_info": {
   "codemirror_mode": {
    "name": "ipython",
    "version": 3
   },
   "file_extension": ".py",
   "mimetype": "text/x-python",
   "name": "python",
   "nbconvert_exporter": "python",
   "pygments_lexer": "ipython3",
   "version": "3.8.8"
  }
 },
 "nbformat": 4,
 "nbformat_minor": 5
}
